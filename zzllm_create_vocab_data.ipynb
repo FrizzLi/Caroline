{
 "cells": [
  {
   "cell_type": "code",
   "execution_count": 95,
   "metadata": {},
   "outputs": [],
   "source": [
    "import openai\n",
    "import os\n",
    "from dotenv import load_dotenv\n",
    "load_dotenv()\n",
    "\n",
    "openai.api_key  = os.getenv('OPENAI_API_KEY')"
   ]
  },
  {
   "cell_type": "code",
   "execution_count": 96,
   "metadata": {},
   "outputs": [],
   "source": [
    "# Prompting with openai\n",
    "def get_completion_and_token_count(\n",
    "    prompt, model=\"gpt-3.5-turbo\", temperature=0, max_tokens=3000\n",
    "):\n",
    "    messages = [{\"role\": \"user\", \"content\": prompt}]\n",
    "    response = openai.ChatCompletion.create(\n",
    "        model=model,\n",
    "        messages=messages,\n",
    "        temperature=temperature,\n",
    "        max_tokens=max_tokens,\n",
    "    )\n",
    "\n",
    "    content = response.choices[0].message[\"content\"]\n",
    "\n",
    "    token_dict = {\n",
    "        \"prompt_tokens\": response[\"usage\"][\"prompt_tokens\"],\n",
    "        \"completion_tokens\": response[\"usage\"][\"completion_tokens\"],\n",
    "        \"total_tokens\": response[\"usage\"][\"total_tokens\"],\n",
    "    }\n",
    "\n",
    "    return content, token_dict\n",
    "\n",
    "\"\"\"For this task, I want you to act as a text prompt generator for creating image with AI. \"\n",
    "    \"Your main job is to express <explanation_of_expression> with emphasis on <Expression>.\"\n",
    "    \"\\n\\nInstruction 1 - provide at least 3 sentences long, detailed image description\"\n",
    "    \"\\nInstruction 2 - in the description, you must not use any of the following objects:\"\n",
    "    \"\\npeople; person; persona; professional; human; hands; face; poster; signs; letters; text\"\n",
    "    \"\\n\\nAfter the description is created, check whether the Instruction 2 was fulfilled. \"\n",
    "    \"If not, create another image description according to all Instructions.\"\n",
    "\"\"\"\n",
    "prompt = \"\"\"\n",
    "I want to create additional information of words in my vocabulary list.\n",
    "\n",
    "additional_translations:\n",
    " - Find translations different from the ones that were given, but with the same meaning\n",
    "\n",
    "explanation_of_expression:\n",
    " - Give explanation for the expression with English text in one sentence\n",
    "\n",
    "explanation_of_syllables:\n",
    " - For each syllable in the Expression, find its independent meaning, if it has one, use one sentence to explain it\n",
    "\n",
    "image_description:\n",
    " - Create 3 sentence long Image Description according to the explanation_of_expression that will be easily expressed by an image\n",
    " - Provide it with many detailed objects, with extra emphasis on the Expression\n",
    "\n",
    "image_tags:\n",
    " - Create ten tags that describe the background details that are closely related with the translations and explanation_of_expression\n",
    "\n",
    "sentence_example:\n",
    " - Create a short sentence example of usage according to the explanation_of_expression with translation\n",
    "\n",
    "Do it for these words:\n",
    "Expression: 비빔밥, Translation: Bibimbap\n",
    "\"\"\""
   ]
  },
  {
   "cell_type": "code",
   "execution_count": null,
   "metadata": {},
   "outputs": [],
   "source": [
    "response, token_dict = get_completion_and_token_count(prompt)\n",
    "print(response)\n",
    "print(token_dict)"
   ]
  },
  {
   "cell_type": "code",
   "execution_count": null,
   "metadata": {},
   "outputs": [],
   "source": []
  },
  {
   "cell_type": "code",
   "execution_count": null,
   "metadata": {},
   "outputs": [],
   "source": []
  },
  {
   "cell_type": "code",
   "execution_count": null,
   "metadata": {},
   "outputs": [],
   "source": []
  },
  {
   "cell_type": "code",
   "execution_count": null,
   "metadata": {},
   "outputs": [],
   "source": []
  }
 ],
 "metadata": {
  "kernelspec": {
   "display_name": "Python 3",
   "language": "python",
   "name": "python3"
  },
  "language_info": {
   "codemirror_mode": {
    "name": "ipython",
    "version": 3
   },
   "file_extension": ".py",
   "mimetype": "text/x-python",
   "name": "python",
   "nbconvert_exporter": "python",
   "pygments_lexer": "ipython3",
   "version": "3.10.0"
  },
  "orig_nbformat": 4
 },
 "nbformat": 4,
 "nbformat_minor": 2
}
